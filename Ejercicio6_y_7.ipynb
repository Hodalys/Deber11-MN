{
  "nbformat": 4,
  "nbformat_minor": 0,
  "metadata": {
    "colab": {
      "provenance": []
    },
    "kernelspec": {
      "name": "python3",
      "display_name": "Python 3"
    },
    "language_info": {
      "name": "python"
    }
  },
  "cells": [
    {
      "cell_type": "markdown",
      "source": [
        "# Ejercicio 6\n",
        "## Aplicando el método de Gauss-Seidel"
      ],
      "metadata": {
        "id": "2DRB10ba0Ixs"
      }
    },
    {
      "cell_type": "code",
      "source": [
        "import numpy as np"
      ],
      "metadata": {
        "id": "vRl5j8wTvLuS"
      },
      "execution_count": 2,
      "outputs": []
    },
    {
      "cell_type": "code",
      "source": [
        "def gauss_seidel(A, b, tol=1e-5, max_iter=100):\n",
        "    n = len(A)\n",
        "    x = np.zeros(n)\n",
        "\n",
        "    print(\"\\nIteraciones del método de Gauss-Seidel:\")\n",
        "    for k in range(max_iter):\n",
        "        x_old = np.copy(x)\n",
        "\n",
        "        for i in range(n):\n",
        "            sum_ax = sum(A[i, j] * x[j] for j in range(n) if i != j)\n",
        "            x[i] = (b[i] - sum_ax) / A[i, i]\n",
        "\n",
        "        diff = np.linalg.norm(x - x_old)\n",
        "        print(f\"Iteración {k+1}: x = {x}\")\n",
        "\n",
        "        if diff < tol:\n",
        "            print(\"\\n¡Convergencia alcanzada!\\n\")\n",
        "            return x, k + 1\n",
        "    return None  # No converge"
      ],
      "metadata": {
        "id": "4p7hYcVWvk9t"
      },
      "execution_count": 8,
      "outputs": []
    },
    {
      "cell_type": "code",
      "source": [
        "# Literal b\n",
        "A = np.array([[1, 0, -1],\n",
        "              [-1/2, 1, -1/4],\n",
        "              [1, -1/2, 1]])\n",
        "b = np.array([0, 0, 0])\n",
        "\n",
        "approx_solution = gauss_seidel(A, b)\n",
        "\n",
        "if approx_solution is not None:\n",
        "    print(\"Solución aproximada:\", approx_solution)\n",
        "else:\n",
        "    print(\"El método de Gauss-Seidel no converge.\")"
      ],
      "metadata": {
        "colab": {
          "base_uri": "https://localhost:8080/"
        },
        "id": "O6_pLOdKyDGB",
        "outputId": "1165fab2-aaf9-43c9-9342-46f5150da950"
      },
      "execution_count": 9,
      "outputs": [
        {
          "output_type": "stream",
          "name": "stdout",
          "text": [
            "\n",
            "Iteraciones del método de Gauss-Seidel:\n",
            "Iteración 1: x = [0. 0. 0.]\n",
            "\n",
            "¡Convergencia alcanzada!\n",
            "\n",
            "Solución aproximada: (array([0., 0., 0.]), 1)\n"
          ]
        }
      ]
    },
    {
      "cell_type": "code",
      "source": [
        "# Literal c\n",
        "A = np.array([[1, 0, -1],\n",
        "              [-1/2, 1, -1/4],\n",
        "              [1, -1/2, 1]])\n",
        "b = np.array([0.2, -1.425, 2])\n",
        "\n",
        "approx_solution = gauss_seidel(A, b)\n",
        "\n",
        "if approx_solution is not None:\n",
        "    print(\"Solución aproximada:\", approx_solution)\n",
        "else:\n",
        "    print(\"El método de Gauss-Seidel no converge.\")"
      ],
      "metadata": {
        "colab": {
          "base_uri": "https://localhost:8080/"
        },
        "id": "44diXlaNyliz",
        "outputId": "7dfe715a-6056-4cdd-fdd4-ee8474235ba9"
      },
      "execution_count": 10,
      "outputs": [
        {
          "output_type": "stream",
          "name": "stdout",
          "text": [
            "\n",
            "Iteraciones del método de Gauss-Seidel:\n",
            "Iteración 1: x = [ 0.2    -1.325   1.1375]\n",
            "Iteración 2: x = [ 1.3375    -0.471875   0.4265625]\n",
            "Iteración 3: x = [ 0.6265625  -1.00507812  0.87089844]\n",
            "Iteración 4: x = [ 1.07089844 -0.67182617  0.59318848]\n",
            "Iteración 5: x = [ 0.79318848 -0.88010864  0.7667572 ]\n",
            "Iteración 6: x = [ 0.9667572  -0.7499321   0.65827675]\n",
            "Iteración 7: x = [ 0.85827675 -0.83129244  0.72607703]\n",
            "Iteración 8: x = [ 0.92607703 -0.78044223  0.68370185]\n",
            "Iteración 9: x = [ 0.88370185 -0.81222361  0.71018634]\n",
            "Iteración 10: x = [ 0.91018634 -0.79236024  0.69363354]\n",
            "Iteración 11: x = [ 0.89363354 -0.80477485  0.70397904]\n",
            "Iteración 12: x = [ 0.90397904 -0.79701572  0.6975131 ]\n",
            "Iteración 13: x = [ 0.8975131  -0.80186517  0.70155431]\n",
            "Iteración 14: x = [ 0.90155431 -0.79883427  0.69902855]\n",
            "Iteración 15: x = [ 0.89902855 -0.80072858  0.70060715]\n",
            "Iteración 16: x = [ 0.90060715 -0.79954464  0.69962053]\n",
            "Iteración 17: x = [ 0.89962053 -0.8002846   0.70023717]\n",
            "Iteración 18: x = [ 0.90023717 -0.79982212  0.69985177]\n",
            "Iteración 19: x = [ 0.89985177 -0.80011117  0.70009264]\n",
            "Iteración 20: x = [ 0.90009264 -0.79993052  0.6999421 ]\n",
            "Iteración 21: x = [ 0.8999421  -0.80004343  0.70003619]\n",
            "Iteración 22: x = [ 0.90003619 -0.79997286  0.69997738]\n",
            "Iteración 23: x = [ 0.89997738 -0.80001696  0.70001414]\n",
            "Iteración 24: x = [ 0.90001414 -0.7999894   0.69999116]\n",
            "Iteración 25: x = [ 0.89999116 -0.80000663  0.70000552]\n",
            "Iteración 26: x = [ 0.90000552 -0.79999586  0.69999655]\n",
            "Iteración 27: x = [ 0.89999655 -0.80000259  0.70000216]\n",
            "Iteración 28: x = [ 0.90000216 -0.79999838  0.69999865]\n",
            "\n",
            "¡Convergencia alcanzada!\n",
            "\n",
            "Solución aproximada: (array([ 0.90000216, -0.79999838,  0.69999865]), 28)\n"
          ]
        }
      ]
    },
    {
      "cell_type": "markdown",
      "source": [
        "# Ejercicio 7\n",
        "## Aplicando el método de Gauss-Jacobi"
      ],
      "metadata": {
        "id": "rYbqep2Oz72f"
      }
    },
    {
      "cell_type": "code",
      "source": [
        "def jacobi(A, b, tol=1e-22, max_iter=300):\n",
        "    n = len(A)\n",
        "    x = np.zeros(n)\n",
        "    D = np.diag(A)\n",
        "    R = A - np.diagflat(D)\n",
        "\n",
        "    for i in range(max_iter):\n",
        "        x_new = (b - np.dot(R, x)) / D\n",
        "        if np.linalg.norm(x_new - x) < tol:\n",
        "            return x_new, i + 1\n",
        "        x = x_new\n",
        "    return None, max_iter  # No converge"
      ],
      "metadata": {
        "id": "h9xscidi0Qxq"
      },
      "execution_count": 20,
      "outputs": []
    },
    {
      "cell_type": "code",
      "source": [
        "# Literal b\n",
        "A = np.array([[1, 0, -1],\n",
        "              [-1/2, 1, -1/4],\n",
        "              [1, -1/2, 1]])\n",
        "b = np.array([0, 0, 0])\n",
        "\n",
        "solution, iterations = jacobi(A, b)\n",
        "\n",
        "if solution is not None:\n",
        "    print(\"Solución aproximada:\")\n",
        "    print(solution)\n",
        "else:\n",
        "    print(\"El método de Jacobi no converge dentro del número máximo de iteraciones.\")"
      ],
      "metadata": {
        "colab": {
          "base_uri": "https://localhost:8080/"
        },
        "id": "vBXgUzQt0uKG",
        "outputId": "21bedaca-94b5-4240-884f-66f6090e5f6d"
      },
      "execution_count": 21,
      "outputs": [
        {
          "output_type": "stream",
          "name": "stdout",
          "text": [
            "Solución aproximada:\n",
            "[0. 0. 0.]\n"
          ]
        }
      ]
    },
    {
      "cell_type": "code",
      "source": [
        "# Literal c\n",
        "A = np.array([[1, 0, -1],\n",
        "              [-1/2, 1, -1/4],\n",
        "              [1, -1/2, 1]])\n",
        "b = np.array([0.2, -1.425, 2])\n",
        "\n",
        "solution, iterations = jacobi(A, b)\n",
        "\n",
        "if solution is not None:\n",
        "    print(\"Solución aproximada:\")\n",
        "    print(solution)\n",
        "else:\n",
        "    print(\"El método de Jacobi no converge dentro del número máximo de iteraciones.\")"
      ],
      "metadata": {
        "colab": {
          "base_uri": "https://localhost:8080/"
        },
        "id": "c9QOQatf1kpO",
        "outputId": "0019eb80-e757-4261-d2d6-b866359664dd"
      },
      "execution_count": 19,
      "outputs": [
        {
          "output_type": "stream",
          "name": "stdout",
          "text": [
            "El método de Jacobi no converge dentro del número máximo de iteraciones.\n"
          ]
        }
      ]
    }
  ]
}