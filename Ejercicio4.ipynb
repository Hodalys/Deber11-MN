{
  "nbformat": 4,
  "nbformat_minor": 0,
  "metadata": {
    "colab": {
      "provenance": []
    },
    "kernelspec": {
      "name": "python3",
      "display_name": "Python 3"
    },
    "language_info": {
      "name": "python"
    }
  },
  "cells": [
    {
      "cell_type": "code",
      "source": [
        "import numpy as np"
      ],
      "metadata": {
        "id": "QpOjkG2w5gZe"
      },
      "execution_count": 6,
      "outputs": []
    },
    {
      "cell_type": "code",
      "source": [
        "def gauss_seidel(A, b, tol=1e-3, max_iter=100):\n",
        "    n = len(A)\n",
        "    x = np.zeros(n)  # Inicializa la solución con ceros\n",
        "\n",
        "    print(\"\\nIteraciones del método de Gauss-Seidel:\")\n",
        "    for k in range(max_iter):\n",
        "        x_old = np.copy(x)  # Guarda la iteración anterior\n",
        "\n",
        "        for i in range(n):\n",
        "            sum_ax = sum(A[i, j] * x[j] for j in range(n) if i != j)\n",
        "            x[i] = (b[i] - sum_ax) / A[i, i]\n",
        "\n",
        "        diff = np.linalg.norm(x - x_old)  # Diferencia entre iteraciones\n",
        "        print(f\"Iteración {k+1}: x = {x}\")\n",
        "\n",
        "        if diff < tol:  # Verifica si ha convergido\n",
        "            print(\"\\n¡Convergencia alcanzada!\\n\")\n",
        "            return x, k + 1\n",
        "\n",
        "    return None  # No converge"
      ],
      "metadata": {
        "id": "YQzAU6_F4A2S"
      },
      "execution_count": 7,
      "outputs": []
    },
    {
      "cell_type": "code",
      "source": [
        "# Ejercicio 4 Sistema de ecuaciones a\n",
        "A = np.array([[3, -1, 1],\n",
        "              [3, 6, 2],\n",
        "              [3, 3, 7]])\n",
        "b = np.array([1, 0, 4])\n",
        "\n",
        "# Resuelve el sistema utilizando Gauss-Seidel\n",
        "solution = gauss_seidel(A, b)\n",
        "\n",
        "# Mostrar el resultado final\n",
        "if solution:\n",
        "    x, iterations = solution\n",
        "    print(\"Solución:\")\n",
        "    print(x)\n",
        "    print(\"Número de iteraciones:\", iterations)\n",
        "else:\n",
        "    print(\"El método de Gauss-Seidel no convergió dentro del número máximo de iteraciones.\")"
      ],
      "metadata": {
        "colab": {
          "base_uri": "https://localhost:8080/"
        },
        "id": "zdYBT22G5moi",
        "outputId": "425a9e1c-95bb-47cb-a8f0-81465b0d73fc"
      },
      "execution_count": 9,
      "outputs": [
        {
          "output_type": "stream",
          "name": "stdout",
          "text": [
            "\n",
            "Iteraciones del método de Gauss-Seidel:\n",
            "Iteración 1: x = [ 0.33333333 -0.16666667  0.5       ]\n",
            "Iteración 2: x = [ 0.11111111 -0.22222222  0.61904762]\n",
            "Iteración 3: x = [ 0.05291005 -0.23280423  0.64852608]\n",
            "Iteración 4: x = [ 0.03955656 -0.23595364  0.65559875]\n",
            "Iteración 5: x = [ 0.0361492  -0.23660752  0.65733928]\n",
            "Iteración 6: x = [ 0.03535107 -0.23678863  0.65775895]\n",
            "\n",
            "¡Convergencia alcanzada!\n",
            "\n",
            "Solución:\n",
            "[ 0.03535107 -0.23678863  0.65775895]\n",
            "Número de iteraciones: 6\n"
          ]
        }
      ]
    },
    {
      "cell_type": "code",
      "source": [
        "# Ejercicio 4 Sistema de ecuaciones b\n",
        "A = np.array([[10, -1, 0],\n",
        "              [-1, 10, -2],\n",
        "              [0, -2, 10]])\n",
        "b = np.array([9, 7, 6])\n",
        "\n",
        "solution = gauss_seidel(A, b)\n",
        "# Mostrar el resultado final\n",
        "if solution:\n",
        "    x, iterations = solution\n",
        "    print(\"Solución:\")\n",
        "    print(x)\n",
        "    print(\"Número de iteraciones:\", iterations)\n",
        "else:\n",
        "    print(\"El método de Gauss-Seidel no convergió dentro del número máximo de iteraciones.\")"
      ],
      "metadata": {
        "colab": {
          "base_uri": "https://localhost:8080/"
        },
        "id": "VSEVCc1s5xvV",
        "outputId": "45e7e0a9-6389-48c4-ddff-8a6538a5537f"
      },
      "execution_count": 10,
      "outputs": [
        {
          "output_type": "stream",
          "name": "stdout",
          "text": [
            "\n",
            "Iteraciones del método de Gauss-Seidel:\n",
            "Iteración 1: x = [0.9   0.79  0.758]\n",
            "Iteración 2: x = [0.979  0.9495 0.7899]\n",
            "Iteración 3: x = [0.99495  0.957475 0.791495]\n",
            "Iteración 4: x = [0.9957475  0.95787375 0.79157475]\n",
            "\n",
            "¡Convergencia alcanzada!\n",
            "\n",
            "Solución:\n",
            "[0.9957475  0.95787375 0.79157475]\n",
            "Número de iteraciones: 4\n"
          ]
        }
      ]
    },
    {
      "cell_type": "code",
      "source": [
        "# Ejercicio 4 Sistema de ecuaciones c\n",
        "A = np.array([[10, 5, 0, 0],\n",
        "              [5, 10, -4, 0],\n",
        "              [0, -4, 8, -1],\n",
        "              [0, 0, -1, 5]])\n",
        "b = np.array([6, 25, -11, -11])\n",
        "\n",
        "solution = gauss_seidel(A, b)\n",
        "# Mostrar el resultado final\n",
        "if solution:\n",
        "    x, iterations = solution\n",
        "    print(\"Solución:\")\n",
        "    print(x)\n",
        "    print(\"Número de iteraciones:\", iterations)\n",
        "else:\n",
        "    print(\"El método de Gauss-Seidel no convergió dentro del número máximo de iteraciones.\")"
      ],
      "metadata": {
        "colab": {
          "base_uri": "https://localhost:8080/"
        },
        "id": "Kkz4OD0k6MfF",
        "outputId": "470ee6da-8487-4f21-d146-0f928bfe2bed"
      },
      "execution_count": 11,
      "outputs": [
        {
          "output_type": "stream",
          "name": "stdout",
          "text": [
            "\n",
            "Iteraciones del método de Gauss-Seidel:\n",
            "Iteración 1: x = [ 0.6    2.2   -0.275 -2.255]\n",
            "Iteración 2: x = [-0.5       2.64     -0.336875 -2.267375]\n",
            "Iteración 3: x = [-0.72        2.72525    -0.29579687 -2.25915938]\n",
            "Iteración 4: x = [-0.762625    2.76299375 -0.27589805 -2.25517961]\n",
            "Iteración 5: x = [-0.78149687  2.78038922 -0.26670284 -2.25334057]\n",
            "Iteración 6: x = [-0.79019461  2.78841617 -0.26245949 -2.2524919 ]\n",
            "Iteración 7: x = [-0.79420808  2.79212025 -0.26050136 -2.25210027]\n",
            "Iteración 8: x = [-0.79606012  2.79382952 -0.25959778 -2.25191956]\n",
            "Iteración 9: x = [-0.79691476  2.79461827 -0.25918081 -2.25183616]\n",
            "Iteración 10: x = [-0.79730913  2.79498224 -0.2589884  -2.25179768]\n",
            "\n",
            "¡Convergencia alcanzada!\n",
            "\n",
            "Solución:\n",
            "[-0.79730913  2.79498224 -0.2589884  -2.25179768]\n",
            "Número de iteraciones: 10\n"
          ]
        }
      ]
    },
    {
      "cell_type": "code",
      "source": [
        "# Ejercicio 4 Sistema de ecuaciones c\n",
        "A = np.array([[4, 1, 1, 0, 1],\n",
        "              [-1, -3, 1, 1, 0],\n",
        "              [2, 1, 5, -1, -1],\n",
        "              [-1, -1, -1, 4, 0],\n",
        "              [0, 2, -1, 1, 4]])\n",
        "b = np.array([6, 6, 6, 6, 6])\n",
        "\n",
        "solution = gauss_seidel(A, b)\n",
        "# Mostrar el resultado final\n",
        "if solution:\n",
        "    x, iterations = solution\n",
        "    print(\"Solución:\")\n",
        "    print(x)\n",
        "    print(\"Número de iteraciones:\", iterations)\n",
        "else:\n",
        "    print(\"El método de Gauss-Seidel no convergió dentro del número máximo de iteraciones.\")"
      ],
      "metadata": {
        "colab": {
          "base_uri": "https://localhost:8080/"
        },
        "id": "_-wJKJ166szp",
        "outputId": "a019c082-44f6-4373-9f06-e0d1376f2628"
      },
      "execution_count": 14,
      "outputs": [
        {
          "output_type": "stream",
          "name": "stdout",
          "text": [
            "\n",
            "Iteraciones del método de Gauss-Seidel:\n",
            "Iteración 1: x = [ 1.5     -2.5      1.1      1.525    2.64375]\n",
            "Iteración 2: x = [ 1.1890625  -1.52135417  1.86239583  1.88252604  2.25564453]\n",
            "Iteración 3: x = [ 0.85082845 -1.03530219  1.89436317  1.92747236  2.0093738 ]\n",
            "Iteración 4: x = [ 0.7828913  -0.98701859  1.87161643  1.91687229  1.98219533]\n",
            "Iteración 5: x = [ 0.78330171 -0.998271    1.86614704  1.91279444  1.98747365]\n",
            "Iteración 6: x = [ 0.78616258 -1.00240703  1.86606999  1.91245638  1.98960692]\n",
            "Iteración 7: x = [ 0.78668253 -1.00271872  1.86628339  1.9125618   1.98978976]\n",
            "\n",
            "¡Convergencia alcanzada!\n",
            "\n",
            "Solución:\n",
            "[ 0.78668253 -1.00271872  1.86628339  1.9125618   1.98978976]\n",
            "Número de iteraciones: 7\n"
          ]
        }
      ]
    }
  ]
}