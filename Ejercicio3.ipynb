{
  "nbformat": 4,
  "nbformat_minor": 0,
  "metadata": {
    "colab": {
      "provenance": []
    },
    "kernelspec": {
      "name": "python3",
      "display_name": "Python 3"
    },
    "language_info": {
      "name": "python"
    }
  },
  "cells": [
    {
      "cell_type": "code",
      "source": [
        "import numpy as np"
      ],
      "metadata": {
        "id": "bSXdxm8Sd-Ya"
      },
      "execution_count": 3,
      "outputs": []
    },
    {
      "cell_type": "code",
      "source": [
        "def jacobi(A, b, tol=1e-3, max_iter=100):\n",
        "    n = len(A)  # Tamaño de la matriz\n",
        "    x = np.zeros(n)  # Inicialización de la solución\n",
        "    D = np.diag(A)  # Extrae la diagonal principal\n",
        "    R = A - np.diagflat(D)  # Matriz A sin la diagonal\n",
        "\n",
        "    print(\"\\nIteraciones del método de Jacobi:\")\n",
        "    for i in range(max_iter):\n",
        "        x_new = (b - np.dot(R, x)) / D  # Fórmula de Jacobi\n",
        "\n",
        "        # Imprimir la iteración actual y el vector x\n",
        "        print(f\"Iteración {i+1}: x = {x_new}\")\n",
        "        if np.linalg.norm(x_new - x) < tol: # Diferencia entre iteración actual y anterior\n",
        "            return x_new, i + 1\n",
        "        x = x_new\n",
        "\n",
        "    return None, max_iter  # No converge"
      ],
      "metadata": {
        "id": "T4RddeFE0i44"
      },
      "execution_count": 15,
      "outputs": []
    },
    {
      "cell_type": "code",
      "source": [
        "# Ejercicio 3 Sistema de ecuaciones a\n",
        "# Matriz de coeficientes\n",
        "A = np.array([[3, -1, 1],\n",
        "              [3, 6, 2],\n",
        "              [3, 3, 7]])\n",
        "b = np.array([1, 0, 4]) # Vector de términos independientes\n",
        "\n",
        "# Resolver usando Jacobi\n",
        "solution, iterations = jacobi(A, b, tol=1e-3)\n",
        "\n",
        "if solution is not None:\n",
        "    print(\"Solución aproximada:\")\n",
        "    print(solution)\n",
        "    print(\"Número de iteraciones:\", iterations)\n",
        "else:\n",
        "    print(\"El método de Jacobi no converge dentro del número máximo de iteraciones.\")"
      ],
      "metadata": {
        "colab": {
          "base_uri": "https://localhost:8080/"
        },
        "id": "nNKVA8zIewI3",
        "outputId": "0c69d48e-2f46-43c2-ea7f-7920f37f5412"
      },
      "execution_count": 16,
      "outputs": [
        {
          "output_type": "stream",
          "name": "stdout",
          "text": [
            "\n",
            "Iteraciones del método de Jacobi:\n",
            "Iteración 1: x = [0.33333333 0.         0.57142857]\n",
            "Iteración 2: x = [ 0.14285714 -0.35714286  0.42857143]\n",
            "Iteración 3: x = [ 0.07142857 -0.21428571  0.66326531]\n",
            "Iteración 4: x = [ 0.04081633 -0.25680272  0.63265306]\n",
            "Iteración 5: x = [ 0.03684807 -0.23129252  0.66399417]\n",
            "Iteración 6: x = [ 0.03490444 -0.23975543  0.6547619 ]\n",
            "Iteración 7: x = [ 0.03516089 -0.23570619  0.65922185]\n",
            "Iteración 8: x = [ 0.03502399 -0.23732106  0.65737656]\n",
            "Iteración 9: x = [ 0.03510079 -0.23663751  0.65812732]\n",
            "Iteración 10: x = [ 0.03507839 -0.23692617  0.65780145]\n",
            "Solución aproximada:\n",
            "[ 0.03507839 -0.23692617  0.65780145]\n",
            "Número de iteraciones: 10\n"
          ]
        }
      ]
    },
    {
      "cell_type": "code",
      "source": [
        "# Ejercicio 3 Sistema de ecuaciones b\n",
        "A = np.array([[10, -1, 0],\n",
        "              [-1, 10, -2],\n",
        "              [0, -2, 10]])\n",
        "b = np.array([9, 7, 6])\n",
        "\n",
        "solution, iterations = jacobi(A, b, tol=1e-3)\n",
        "\n",
        "if solution is not None:\n",
        "    print(\"Solución aproximada:\")\n",
        "    print(solution)\n",
        "    print(\"Número de iteraciones:\", iterations)\n",
        "else:\n",
        "    print(\"El método de Jacobi no converge dentro del número máximo de iteraciones.\")"
      ],
      "metadata": {
        "colab": {
          "base_uri": "https://localhost:8080/"
        },
        "id": "UTjiDtIyfKWw",
        "outputId": "ee031990-d696-4ee1-d747-6f92e7829d6d"
      },
      "execution_count": 17,
      "outputs": [
        {
          "output_type": "stream",
          "name": "stdout",
          "text": [
            "\n",
            "Iteraciones del método de Jacobi:\n",
            "Iteración 1: x = [0.9 0.7 0.6]\n",
            "Iteración 2: x = [0.97 0.91 0.74]\n",
            "Iteración 3: x = [0.991 0.945 0.782]\n",
            "Iteración 4: x = [0.9945 0.9555 0.789 ]\n",
            "Iteración 5: x = [0.99555 0.95725 0.7911 ]\n",
            "Iteración 6: x = [0.995725 0.957775 0.79145 ]\n",
            "Solución aproximada:\n",
            "[0.995725 0.957775 0.79145 ]\n",
            "Número de iteraciones: 6\n"
          ]
        }
      ]
    },
    {
      "cell_type": "code",
      "source": [
        "# Ejercicio 3 Sistema de ecuaciones c\n",
        "A = np.array([[10, 5, 0, 0],\n",
        "              [5, 10, -4, 0],\n",
        "              [0, -4, 8, -1],\n",
        "              [0, 0, -1, 5]])\n",
        "b = np.array([6, 25, -11, -11])\n",
        "\n",
        "solution, iterations = jacobi(A, b, tol=1e-3)\n",
        "\n",
        "if solution is not None:\n",
        "    print(\"Solución aproximada:\")\n",
        "    print(solution)\n",
        "    print(\"Número de iteraciones:\", iterations)\n",
        "else:\n",
        "    print(\"El método de Jacobi no converge dentro del número máximo de iteraciones.\")"
      ],
      "metadata": {
        "colab": {
          "base_uri": "https://localhost:8080/"
        },
        "id": "1LP7IX4JvqrP",
        "outputId": "d524c33a-1883-4b1d-e1e7-d921618f6416"
      },
      "execution_count": 18,
      "outputs": [
        {
          "output_type": "stream",
          "name": "stdout",
          "text": [
            "\n",
            "Iteraciones del método de Jacobi:\n",
            "Iteración 1: x = [ 0.6    2.5   -1.375 -2.2  ]\n",
            "Iteración 2: x = [-0.65   1.65  -0.4   -2.475]\n",
            "Iteración 3: x = [-0.225     2.665    -0.859375 -2.28    ]\n",
            "Iteración 4: x = [-0.7325    2.26875  -0.3275   -2.371875]\n",
            "Iteración 5: x = [-0.534375    2.73525    -0.53710938 -2.2655    ]\n",
            "Iteración 6: x = [-0.767625    2.55234375 -0.2905625  -2.30742188]\n",
            "Iteración 7: x = [-0.67617187  2.7675875  -0.38725586 -2.2581125 ]\n",
            "Iteración 8: x = [-0.78379375  2.68318359 -0.27347031 -2.27745117]\n",
            "Iteración 9: x = [-0.7415918   2.78250875 -0.3180896  -2.25469406]\n",
            "Iteración 10: x = [-0.79125437  2.74356006 -0.26558238 -2.26361792]\n",
            "Iteración 11: x = [-0.77178003  2.78939423 -0.28617221 -2.25311648]\n",
            "Iteración 12: x = [-0.79469712  2.77142113 -0.26194244 -2.25723444]\n",
            "Iteración 13: x = [-0.78571057  2.79257158 -0.27144374 -2.25238849]\n",
            "Iteración 14: x = [-0.79628579  2.78427779 -0.26026277 -2.25428875]\n",
            "Iteración 15: x = [-0.79213889  2.79403779 -0.2646472  -2.25205255]\n",
            "Iteración 16: x = [-0.79701889  2.79021057 -0.25948768 -2.25292944]\n",
            "Iteración 17: x = [-0.79510528  2.79471438 -0.2615109  -2.25189754]\n",
            "Iteración 18: x = [-0.79735719  2.79294828 -0.25913    -2.25230218]\n",
            "Iteración 19: x = [-0.79647414  2.79502659 -0.26006363 -2.251826  ]\n",
            "Iteración 20: x = [-0.7975133   2.79421162 -0.25896495 -2.25201273]\n",
            "Iteración 21: x = [-0.79710581  2.79517067 -0.25939578 -2.25179299]\n",
            "Iteración 22: x = [-0.79758533  2.79479459 -0.25888879 -2.25187916]\n",
            "Solución aproximada:\n",
            "[-0.79758533  2.79479459 -0.25888879 -2.25187916]\n",
            "Número de iteraciones: 22\n"
          ]
        }
      ]
    },
    {
      "cell_type": "code",
      "source": [
        "# Ejercicio 3 Sistema de ecuaciones d\n",
        "A = np.array([[4, 1, 1, 0, 1],\n",
        "              [-1, -3, 1, 1, 0],\n",
        "              [2, 1, 5, -1, -1],\n",
        "              [-1, -1, -1, 4, 0],\n",
        "              [0, 2, -1, 1, 4]])\n",
        "b = np.array([6, 6, 6, 6, 6])\n",
        "\n",
        "solution, iterations = jacobi(A, b, tol=1e-3)\n",
        "\n",
        "if solution is not None:\n",
        "    print(\"Solución aproximada:\")\n",
        "    print(solution)\n",
        "    print(\"Número de iteraciones:\", iterations)\n",
        "else:\n",
        "    print(\"El método de Jacobi no converge dentro del número máximo de iteraciones.\")"
      ],
      "metadata": {
        "colab": {
          "base_uri": "https://localhost:8080/"
        },
        "id": "koUQOyxywm48",
        "outputId": "37131abc-f695-48eb-e1cd-06eda60e1383"
      },
      "execution_count": 19,
      "outputs": [
        {
          "output_type": "stream",
          "name": "stdout",
          "text": [
            "\n",
            "Iteraciones del método de Jacobi:\n",
            "Iteración 1: x = [ 1.5 -2.   1.2  1.5  1.5]\n",
            "Iteración 2: x = [ 1.325 -1.6    1.6    1.675  2.425]\n",
            "Iteración 3: x = [ 0.89375 -1.35     1.81     1.83125  2.28125]\n",
            "Iteración 4: x = [ 0.8146875  -1.08416667  1.935       1.8384375   2.1696875 ]\n",
            "Iteración 5: x = [ 0.74486979 -1.01375     1.89258333  1.91638021  2.06622396]\n",
            "Iteración 6: x = [ 0.76373568 -0.97863542  1.90132292  1.90592578  2.00092578]\n",
            "Iteración 7: x = [ 0.76909668 -0.98549566  1.87160313  1.92160579  1.98816699]\n",
            "Iteración 8: x = [ 0.78143139 -0.99196259  1.87141502  1.91380104  1.98024716]\n",
            "Iteración 9: x = [ 0.7850751  -0.99873844  1.8646296   1.91522095  1.98538479]\n",
            "Iteración 10: x = [ 0.78718101 -1.00174151  1.8658388   1.91274157  1.98672138]\n",
            "Iteración 11: x = [ 0.78729533 -1.00286688  1.86536849  1.91281957  1.98914507]\n",
            "Iteración 12: x = [ 0.78708833 -1.00303576  1.86604817  1.91244923  1.98957067]\n",
            "Solución aproximada:\n",
            "[ 0.78708833 -1.00303576  1.86604817  1.91244923  1.98957067]\n",
            "Número de iteraciones: 12\n"
          ]
        }
      ]
    }
  ]
}