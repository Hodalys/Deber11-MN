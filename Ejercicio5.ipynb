{
  "nbformat": 4,
  "nbformat_minor": 0,
  "metadata": {
    "colab": {
      "provenance": []
    },
    "kernelspec": {
      "name": "python3",
      "display_name": "Python 3"
    },
    "language_info": {
      "name": "python"
    }
  },
  "cells": [
    {
      "cell_type": "code",
      "source": [
        "import numpy as np"
      ],
      "metadata": {
        "id": "bbQuvWSKIlwu"
      },
      "execution_count": 4,
      "outputs": []
    },
    {
      "cell_type": "code",
      "source": [
        "def gauss_jacobi(A, b, tol=1e-3, max_iter=25):\n",
        "    n = len(A)\n",
        "    x = np.zeros(n)  # Vector inicial x^(0) = (0, 0, 0)\n",
        "    D = np.diag(A)  # Diagonal de A\n",
        "    R = A - np.diagflat(D)  # Matriz A sin la diagonal\n",
        "\n",
        "    print(\"\\nIteraciones del método de Jacobi:\")\n",
        "    print(\"-\" * 50)\n",
        "\n",
        "    for k in range(max_iter):\n",
        "        x_new = (b - np.dot(R, x)) / D  # Fórmula de Jacobi\n",
        "        diff = np.linalg.norm(x_new - x)  # Diferencia entre iteraciones\n",
        "\n",
        "        print(f\"Iteración {k+1}: x = {x_new}, diferencia = {diff:.5f}\")\n",
        "\n",
        "        if diff < tol:  # Verifica si ha convergido\n",
        "            print(\"-\" * 50)\n",
        "            print(\"\\n¡Convergencia alcanzada!\\n\")\n",
        "            return x_new, k + 1\n",
        "\n",
        "        x = x_new  # Actualiza x para la siguiente iteración\n",
        "\n",
        "    print(\"-\" * 50)\n",
        "    print(\"\\nEl método de Jacobi no proporciona una buena aproximación después de 25 iteraciones.\\n\")\n",
        "    return x  # Devuelve la última aproximación"
      ],
      "metadata": {
        "id": "HQn5SDAUKyH7"
      },
      "execution_count": 8,
      "outputs": []
    },
    {
      "cell_type": "code",
      "execution_count": 14,
      "metadata": {
        "colab": {
          "base_uri": "https://localhost:8080/"
        },
        "id": "Ua1MQgspCoV7",
        "outputId": "322870a0-7eda-46c9-8d71-b15ce766b7fa"
      },
      "outputs": [
        {
          "output_type": "stream",
          "name": "stdout",
          "text": [
            "\n",
            "Iteraciones del método de Jacobi:\n",
            "--------------------------------------------------\n",
            "Iteración 1: x = [-0.5  2.  -2.5], diferencia = 3.24037\n",
            "Iteración 2: x = [ 1.75  5.   -1.75], diferencia = 3.82426\n",
            "Iteración 3: x = [2.875 2.    0.875], diferencia = 4.14201\n",
            "Iteración 4: x = [ 0.0625 -1.75   -0.0625], diferencia = 4.78033\n",
            "Iteración 5: x = [-1.34375  2.      -3.34375], diferencia = 5.17751\n",
            "Iteración 6: x = [ 2.171875  6.6875   -2.171875], diferencia = 5.97541\n",
            "Iteración 7: x = [3.9296875 2.        1.9296875], diferencia = 6.47189\n",
            "Iteración 8: x = [-0.46484375 -3.859375    0.46484375], diferencia = 7.46927\n",
            "Iteración 9: x = [-2.66210938  2.         -4.66210938], diferencia = 8.08986\n",
            "Iteración 10: x = [ 2.83105469  9.32421875 -2.83105469], diferencia = 9.33658\n",
            "Iteración 11: x = [5.57763672 2.         3.57763672], diferencia = 10.11233\n",
            "Iteración 12: x = [-1.28881836 -7.15527344  1.28881836], diferencia = 11.67073\n",
            "Iteración 13: x = [-4.7220459  2.        -6.7220459], diferencia = 12.64041\n",
            "Iteración 14: x = [ 3.86102295 13.4440918  -3.86102295], diferencia = 14.58841\n",
            "Iteración 15: x = [8.15255737 2.         6.15255737], diferencia = 15.80052\n",
            "Iteración 16: x = [ -2.57627869 -12.30511475   2.57627869], diferencia = 18.23551\n",
            "Iteración 17: x = [-7.94069672  2.         -9.94069672], diferencia = 19.75064\n",
            "Iteración 18: x = [ 5.47034836 19.88139343 -5.47034836], diferencia = 22.79439\n",
            "Iteración 19: x = [12.1758709  2.        10.1758709], diferencia = 24.68831\n",
            "Iteración 20: x = [ -4.58793545 -20.35174179   4.58793545], diferencia = 28.49299\n",
            "Iteración 21: x = [-12.96983862   2.         -14.96983862], diferencia = 30.86038\n",
            "Iteración 22: x = [ 7.98491931 29.93967724 -7.98491931], diferencia = 35.61624\n",
            "Iteración 23: x = [18.46229827  2.         16.46229827], diferencia = 38.57548\n",
            "Iteración 24: x = [ -7.73114914 -32.92459655   7.73114914], diferencia = 44.52030\n",
            "Iteración 25: x = [-20.82787284   2.         -22.82787284], diferencia = 48.21935\n",
            "--------------------------------------------------\n",
            "\n",
            "El método de Jacobi no proporciona una buena aproximación después de 25 iteraciones.\n",
            "\n",
            "\n",
            "Solución exacta: [1, 2, -1]\n",
            "Última aproximación obtenida con Jacobi: [-20.82787284   2.         -22.82787284]\n"
          ]
        }
      ],
      "source": [
        "# Definir el sistema de ecuaciones\n",
        "A = np.array([[2, -1, 1],\n",
        "              [2, 2, 2],\n",
        "              [-1, -1, 2]])\n",
        "b = np.array([-1, 4, -5])\n",
        "\n",
        "# Resolver el sistema con Jacobi\n",
        "approx_solution = gauss_jacobi(A, b)\n",
        "\n",
        "# Comparar con la solución exacta (1, 2, -1)\n",
        "print(\"\\nSolución exacta: [1, 2, -1]\")\n",
        "print(\"Última aproximación obtenida con Jacobi:\", approx_solution)"
      ]
    },
    {
      "cell_type": "code",
      "source": [
        "def gauss_seidel(A, b, tol=1e-5, max_iter=100):\n",
        "    n = len(A)\n",
        "    x = np.zeros(n)  # Inicializa la solución con ceros\n",
        "\n",
        "    print(\"\\nIteraciones del método de Gauss-Seidel:\")\n",
        "    for k in range(max_iter):\n",
        "        x_old = np.copy(x)  # Guarda la iteración anterior\n",
        "\n",
        "        for i in range(n):\n",
        "            sum_ax = sum(A[i, j] * x[j] for j in range(n) if i != j)\n",
        "            x[i] = (b[i] - sum_ax) / A[i, i]\n",
        "\n",
        "        diff = np.linalg.norm(x - x_old)  # Diferencia entre iteraciones\n",
        "        print(f\"Iteración {k+1}: x = {x}, diferencia = {diff:.8f}\")\n",
        "\n",
        "        if diff < tol:  # Verifica si ha convergido\n",
        "            print(\"\\n¡Convergencia alcanzada!\\n\")\n",
        "            return x, k + 1\n",
        "\n",
        "    return None  # No converge"
      ],
      "metadata": {
        "id": "VRLeax6qJ77-"
      },
      "execution_count": 11,
      "outputs": []
    },
    {
      "cell_type": "code",
      "source": [
        "# Definir el sistema de ecuaciones\n",
        "A = np.array([[2, -1, 1],\n",
        "              [2, 2, 2],\n",
        "              [-1, -1, 2]])\n",
        "b = np.array([-1, 4, -5])\n",
        "\n",
        "approx_solution = gauss_seidel(A, b)\n",
        "\n",
        "print(\"\\nSolución exacta: [1, 2, -1]\")\n",
        "print(\"Última aproximación obtenida con Seidel:\", approx_solution)"
      ],
      "metadata": {
        "colab": {
          "base_uri": "https://localhost:8080/"
        },
        "id": "BXLdRkAEKUb1",
        "outputId": "1bb712be-58cf-499d-a510-ed5332476987"
      },
      "execution_count": 13,
      "outputs": [
        {
          "output_type": "stream",
          "name": "stdout",
          "text": [
            "\n",
            "Iteraciones del método de Gauss-Seidel:\n",
            "Iteración 1: x = [-0.5  2.5 -1.5], diferencia = 2.95803989\n",
            "Iteración 2: x = [ 1.5   2.   -0.75], diferencia = 2.19374110\n",
            "Iteración 3: x = [ 0.875  1.875 -1.125], diferencia = 0.73950997\n",
            "Iteración 4: x = [ 1.      2.125  -0.9375], diferencia = 0.33657280\n",
            "Iteración 5: x = [ 1.03125  1.90625 -1.03125], diferencia = 0.24003580\n",
            "Iteración 6: x = [ 0.96875   2.0625   -0.984375], diferencia = 0.17469281\n",
            "Iteración 7: x = [ 1.0234375  1.9609375 -1.0078125], diferencia = 0.11770718\n",
            "Iteración 8: x = [ 0.984375    2.0234375  -0.99609375], diferencia = 0.07462880\n",
            "Iteración 9: x = [ 1.00976562  1.98632812 -1.00195312], diferencia = 0.04534448\n",
            "Iteración 10: x = [ 0.99414062  2.0078125  -0.99902344], diferencia = 0.02672643\n",
            "Iteración 11: x = [ 1.00341797  1.99560547 -1.00048828], diferencia = 0.01540216\n",
            "Iteración 12: x = [ 0.99804688  2.00244141 -0.99975586], diferencia = 0.00872440\n",
            "Iteración 13: x = [ 1.00109863  1.99865723 -1.00012207], diferencia = 0.00487518\n",
            "Iteración 14: x = [ 0.99938965  2.00073242 -0.99993896], diferencia = 0.00269455\n",
            "Iteración 15: x = [ 1.00033569  1.99960327 -1.00003052], diferencia = 0.00147593\n",
            "Iteración 16: x = [ 0.99981689  2.00021362 -0.99998474], diferencia = 0.00080236\n",
            "Iteración 17: x = [ 1.00009918  1.99988556 -1.00000763], diferencia = 0.00043340\n",
            "Iteración 18: x = [ 0.99994659  2.00006104 -0.99999619], diferencia = 0.00023282\n",
            "Iteración 19: x = [ 1.00002861  1.99996758 -1.00000191], diferencia = 0.00012448\n",
            "Iteración 20: x = [ 0.99998474  2.00001717 -0.99999905], diferencia = 0.00006627\n",
            "Iteración 21: x = [ 1.00000811  1.99999094 -1.00000048], diferencia = 0.00003515\n",
            "Iteración 22: x = [ 0.99999571  2.00000477 -0.99999976], diferencia = 0.00001859\n",
            "Iteración 23: x = [ 1.00000226  1.9999975  -1.00000012], diferencia = 0.00000980\n",
            "\n",
            "¡Convergencia alcanzada!\n",
            "\n",
            "\n",
            "Solución exacta: [1, 2, -1]\n",
            "Última aproximación obtenida con Seidel: (array([ 1.00000226,  1.9999975 , -1.00000012]), 23)\n"
          ]
        }
      ]
    }
  ]
}